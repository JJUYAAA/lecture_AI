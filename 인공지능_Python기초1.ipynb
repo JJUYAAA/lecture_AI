{
  "nbformat": 4,
  "nbformat_minor": 0,
  "metadata": {
    "colab": {
      "provenance": [],
      "toc_visible": true,
      "include_colab_link": true
    },
    "kernelspec": {
      "name": "python3",
      "display_name": "Python 3"
    },
    "language_info": {
      "name": "python"
    }
  },
  "cells": [
    {
      "cell_type": "markdown",
      "metadata": {
        "id": "view-in-github",
        "colab_type": "text"
      },
      "source": [
        "<a href=\"https://colab.research.google.com/github/JJUYAAA/lecture_AI/blob/main/%EC%9D%B8%EA%B3%B5%EC%A7%80%EB%8A%A5_Python%EA%B8%B0%EC%B4%881.ipynb\" target=\"_parent\"><img src=\"https://colab.research.google.com/assets/colab-badge.svg\" alt=\"Open In Colab\"/></a>"
      ]
    },
    {
      "cell_type": "markdown",
      "source": [
        "\n",
        "## 1. Anaconda를 통한 Python 설치\n",
        "\n",
        "- 설치 파일 링크\n",
        "\n",
        "    https://www.anaconda.com/download/success\n",
        "\n",
        "- 설치 방법\n",
        "\n",
        "    https://docs.anaconda.com/anaconda/install/windows/\n",
        "\n",
        "- (옵션) Anaconda 없이 python 설치\n",
        "\n",
        "    https://www.python.org/downloads/"
      ],
      "metadata": {
        "id": "qaUq6OQD8HS2"
      }
    },
    {
      "cell_type": "markdown",
      "source": [
        "\n",
        "## 2. Python 실행방법\n",
        "\n",
        "- REPL (Read Evaluate Print Loop)\n",
        "    \n",
        "    Anaconda Prompt 실행\n",
        "\n",
        "    ```\n",
        "    >>> print(\"Hello World!\")\n",
        "    Hello World!\n",
        "    >>> 1 + 1\n",
        "    2\n",
        "    ```\n",
        "\n",
        "- 에디터로 작성하기 (VScode, Pycharm, jupyter-lab)\n",
        "\n",
        "    ```\n",
        "    # hello.py\n",
        "    print(\"Hello World!\")\n",
        "    ```\n",
        "    Anaconda Prompt / VScode 실행\n",
        "    ```\n",
        "    python hello.py\n",
        "    ```\n",
        "\n",
        "- 온라인에서 실행하기 (Colab)\n",
        "\n",
        "    https://colab.google/"
      ],
      "metadata": {
        "id": "rO3aY7sLS_KD"
      }
    },
    {
      "cell_type": "code",
      "source": [
        "print(\"하이하이\")"
      ],
      "metadata": {
        "id": "YyTRYXwn4ipP",
        "colab": {
          "base_uri": "https://localhost:8080/"
        },
        "outputId": "d7f7b1d8-0eca-40b6-bbd0-e17566b6f455"
      },
      "execution_count": 1,
      "outputs": [
        {
          "output_type": "stream",
          "name": "stdout",
          "text": [
            "하이하이\n"
          ]
        }
      ]
    },
    {
      "cell_type": "markdown",
      "source": [
        "코드 에러 질문은 ChatGPT / Gemini 한테하면 다 해결해준다.\n",
        "\n",
        "## 3. 자료형"
      ],
      "metadata": {
        "id": "zy9WPvbCQGXz"
      }
    },
    {
      "cell_type": "markdown",
      "source": [
        "\n",
        "\n",
        "### 1. 변수\n",
        "\n",
        "- 변수는 하나의 상자다.\n",
        "\n",
        "- 변수는 자료형을 저장하는 공간이다.\n",
        "\n",
        "- 값을 변수에 **할당**한다.\n",
        "\n",
        "    ```\n",
        "    변수_이름 = 변수에_저장할_값\n",
        "    ```\n",
        "\n",
        "- 변수 이름\n",
        "    - 소문자(a~z)\n",
        "    - 대문자(A~Z)\n",
        "    - 숫자(0~9)\n",
        "    - 언더바(_)\n",
        "    - 시작은 숫자로 할 수 없다."
      ],
      "metadata": {
        "id": "9X8CL_Q7T9aA"
      }
    },
    {
      "cell_type": "code",
      "source": [],
      "metadata": {
        "id": "Qf56TUYkXfVD"
      },
      "execution_count": null,
      "outputs": []
    },
    {
      "cell_type": "markdown",
      "source": [
        "- 숫자, 불, 문자열, 리스트, 튜플, 셋, 딕셔너리, ...\n",
        "\n",
        "    Python은 C나 JAVA와 달리 변수를 만들 때 자료형 타입을 지정하지 않아도 된다.\n",
        "\n",
        "    자료형 타입 확인 함수: type()\n",
        "\n",
        "| 이름 | 타입 | 가변 | 예제|\n",
        "| - | - | - | - |\n",
        "| 정수 | int | no | 47, 25000, 25_000 |\n",
        "| 부동소수점 | float | no | 3.14, 2.7e5 |\n",
        "| 복소수 | complex | no | 3j, 5 + 9j |\n",
        "| 불리언 | bool | no | True, False |\n",
        "| 문자열 | str | no | 'konkuk', 'seoul' |\n",
        "| 리스트 | list | yes | ['seoul', 'busan', 'daegu']|\n",
        "| 튜플 | tuple | no | (2, 4, 6) |\n",
        "| 셋 | set | yes | set([3, 5, 7]) |\n",
        "| 딕셔너리 | dic | yes | {'name':'konkuk', age: 18}|\n",
        "\n",
        "### 2. 숫자형\n",
        "\n",
        "- 정수형 int\n",
        "\n",
        "- 실수형 float\n",
        "\n",
        "- 지수 표현"
      ],
      "metadata": {
        "id": "2dyGzEOTbS9i"
      }
    },
    {
      "cell_type": "markdown",
      "source": [
        "- 사칙 연산\n",
        "\n",
        "| 연산자 | 설명 |\n",
        "|-|-|\n",
        "|+| 더하기 |\n",
        "|-| 빼기 |\n",
        "|*| 곱하기|\n",
        "|/| 소수점 나누기 |\n",
        "| // | 정수 나누기 |\n",
        "|%| 나머지 |\n",
        "| ** | 지수 |"
      ],
      "metadata": {
        "id": "LSftl_gy7Qoh"
      }
    },
    {
      "cell_type": "code",
      "source": [
        "a = 10.\n",
        "print(a)\n",
        "print(type(a))"
      ],
      "metadata": {
        "id": "3c8cD6NllaWT",
        "colab": {
          "base_uri": "https://localhost:8080/"
        },
        "outputId": "c4c5be08-5606-4454-a557-ced88731fb91"
      },
      "execution_count": 8,
      "outputs": [
        {
          "output_type": "stream",
          "name": "stdout",
          "text": [
            "10.0\n",
            "<class 'float'>\n"
          ]
        }
      ]
    },
    {
      "cell_type": "code",
      "source": [
        "INF = 1000000000\n",
        "INF= 1e9\n",
        "#지수는 항상 float타입으로\n",
        "print(type(INF))"
      ],
      "metadata": {
        "id": "ESkQds8HF5_6",
        "colab": {
          "base_uri": "https://localhost:8080/"
        },
        "outputId": "6038a16a-31f8-41b6-eddc-caac4cec35c8"
      },
      "execution_count": 14,
      "outputs": [
        {
          "output_type": "stream",
          "name": "stdout",
          "text": [
            "<class 'float'>\n"
          ]
        }
      ]
    },
    {
      "cell_type": "code",
      "source": [
        "a = -5 ** 2\n",
        "print(a)\n"
      ],
      "metadata": {
        "id": "7tvm06n6DWuc",
        "colab": {
          "base_uri": "https://localhost:8080/"
        },
        "outputId": "63d9b0d4-645b-4c8c-a17d-418de4b69582"
      },
      "execution_count": 18,
      "outputs": [
        {
          "output_type": "stream",
          "name": "stdout",
          "text": [
            "-25\n"
          ]
        }
      ]
    },
    {
      "cell_type": "markdown",
      "source": [
        "### 3. 불리언\n",
        "\n",
        "True, False"
      ],
      "metadata": {
        "id": "rQ6NEDjDBJ-b"
      }
    },
    {
      "cell_type": "markdown",
      "source": [],
      "metadata": {
        "id": "GSHCvcEACbBK"
      }
    },
    {
      "cell_type": "code",
      "source": [
        "#숫자의 크기로 비교하기 때문에, type이 달라도 같다\n",
        "a = 5.\n",
        "b = 5\n",
        "c = a==b\n",
        "\n",
        "print(c)\n",
        "print(type(c))"
      ],
      "metadata": {
        "id": "cso6FoDUoxW_",
        "colab": {
          "base_uri": "https://localhost:8080/"
        },
        "outputId": "bfa24f37-8833-4e56-9c7a-184b765a51ff"
      },
      "execution_count": 20,
      "outputs": [
        {
          "output_type": "stream",
          "name": "stdout",
          "text": [
            "True\n",
            "<class 'bool'>\n"
          ]
        }
      ]
    },
    {
      "cell_type": "markdown",
      "source": [
        "- 타입 변환\n",
        "\n",
        "    int(), float(), bool()"
      ],
      "metadata": {
        "id": "BcMsN2IZB8TV"
      }
    },
    {
      "cell_type": "code",
      "source": [
        "#0만 아니면 True\n",
        "print(bool(1.))\n",
        "print(bool(3.14))"
      ],
      "metadata": {
        "colab": {
          "base_uri": "https://localhost:8080/"
        },
        "id": "hoNo7tVUCecK",
        "outputId": "ee545c95-db38-44fe-ee8a-41f64ef1abdf"
      },
      "execution_count": 22,
      "outputs": [
        {
          "output_type": "stream",
          "name": "stdout",
          "text": [
            "True\n",
            "True\n"
          ]
        }
      ]
    },
    {
      "cell_type": "markdown",
      "source": [
        "### 4. 문자열\n",
        "\n",
        "문자열을 시퀀스의 첫번째 예제다. 문자열은 일련의 문자다.\n",
        "\n",
        "문자는 시스템에서 가장 작은 단위이며 문자, 숫자, 기호, 부호, 공백, 줄바꿈과 같은 지시문을 포함한다."
      ],
      "metadata": {
        "id": "9Wf-8SITpoyp"
      }
    },
    {
      "cell_type": "code",
      "source": [
        "a = '\"하이주연\"'\n",
        "print(a)\n",
        "print(type(a))"
      ],
      "metadata": {
        "id": "q6fn98UC1ZLK",
        "colab": {
          "base_uri": "https://localhost:8080/"
        },
        "outputId": "732ff681-4f4a-429a-aa63-d36391e1965a"
      },
      "execution_count": 29,
      "outputs": [
        {
          "output_type": "stream",
          "name": "stdout",
          "text": [
            "\"하이주연\"\n",
            "<class 'str'>\n"
          ]
        }
      ]
    },
    {
      "cell_type": "code",
      "source": [
        "a = \"안녕\\t주연아\"\n",
        "print(a)\n",
        "\n",
        "b = r\"안녕\\t주연아\"\n",
        "print(b)"
      ],
      "metadata": {
        "colab": {
          "base_uri": "https://localhost:8080/"
        },
        "id": "l4i-mfQxEXoa",
        "outputId": "1a05dc86-6564-4e67-9b99-4c669c3f5b14"
      },
      "execution_count": 31,
      "outputs": [
        {
          "output_type": "stream",
          "name": "stdout",
          "text": [
            "안녕\t주연아\n",
            "안녕\\t주연아\n"
          ]
        }
      ]
    },
    {
      "cell_type": "markdown",
      "source": [
        "- 문자열 타입 변환"
      ],
      "metadata": {
        "id": "BcMQU3mwI_iq"
      }
    },
    {
      "cell_type": "code",
      "source": [
        "a = 3.1111\n",
        "#소수점 뒤가 다 날라감 (반올림과 관계없음)\n",
        "b = -3.9999\n",
        "print(int(a))\n",
        "print(int(b))\n",
        "\n",
        "#반올림하려면 round 함수 쓸 것\n",
        "print(round(a))\n",
        "print(round(b))\n",
        "\n",
        "#소수점 몇번째 자리까지\n",
        "print(round(3.141592, 3))"
      ],
      "metadata": {
        "id": "FvCm-u4FJM0m",
        "colab": {
          "base_uri": "https://localhost:8080/"
        },
        "outputId": "341feb04-68ce-417f-9c29-fba94d4ac471"
      },
      "execution_count": 37,
      "outputs": [
        {
          "output_type": "stream",
          "name": "stdout",
          "text": [
            "3\n",
            "-3\n",
            "3\n",
            "-4\n",
            "3.142\n"
          ]
        }
      ]
    },
    {
      "cell_type": "markdown",
      "source": [
        "- 문자열 연산, + *"
      ],
      "metadata": {
        "id": "s476-6oWJfVW"
      }
    },
    {
      "cell_type": "code",
      "source": [
        "a = '안녕 '\n",
        "b = '주여나'\n",
        "print(a+b)\n",
        "\n",
        "\n",
        "print(a*5)"
      ],
      "metadata": {
        "id": "4kDjkUxRJ6d6",
        "colab": {
          "base_uri": "https://localhost:8080/"
        },
        "outputId": "2aa408b8-4dca-47cf-8734-f39874b3ec87"
      },
      "execution_count": 39,
      "outputs": [
        {
          "output_type": "stream",
          "name": "stdout",
          "text": [
            "안녕 주여나\n",
            "안녕 안녕 안녕 안녕 안녕 \n"
          ]
        }
      ]
    },
    {
      "cell_type": "markdown",
      "source": [
        "- 문자 추출"
      ],
      "metadata": {
        "id": "mTCwljsyKBoY"
      }
    },
    {
      "cell_type": "code",
      "source": [
        "letters = '123456789123456789'\n",
        "print(letters[0])\n",
        "print(letters[-2]) #뒤에서 2번째\n",
        "print(len(letters))"
      ],
      "metadata": {
        "colab": {
          "base_uri": "https://localhost:8080/"
        },
        "id": "bllOm_ZdGYCB",
        "outputId": "e3504976-de2d-436d-b2f4-418cc69dac2f"
      },
      "execution_count": 55,
      "outputs": [
        {
          "output_type": "stream",
          "name": "stdout",
          "text": [
            "1\n",
            "8\n",
            "18\n"
          ]
        }
      ]
    },
    {
      "cell_type": "code",
      "source": [
        "print(letters[0:8:2]) #0~8 까지 2간격으로 --> 귿데 letters[8]은 출력 안 됨. index 8 전까지인듯\n",
        "print(letters[8:0:-2])\n",
        "print(letters[:]) #그냥 전체\n",
        "print(letters[::-1]) #뒤에서부터"
      ],
      "metadata": {
        "colab": {
          "base_uri": "https://localhost:8080/"
        },
        "id": "twNWNUdHHQ_m",
        "outputId": "eddba929-b72f-4e08-e8e2-06f30f72594a"
      },
      "execution_count": 58,
      "outputs": [
        {
          "output_type": "stream",
          "name": "stdout",
          "text": [
            "1357\n",
            "9753\n",
            "123456789123456789\n",
            "987654321987654321\n"
          ]
        }
      ]
    },
    {
      "cell_type": "markdown",
      "source": [
        "- 문자 나누기\n",
        "\n",
        "    https://www.acmicpc.net/problem/1000\n",
        "\n",
        "    - 문제\n",
        "        \n",
        "        두 정수 A와 B를 입력받은 다음, A+B를 출력하는 프로그램을 작성하시오.\n",
        "\n",
        "    - 입력\n",
        "        \n",
        "        첫째 줄에 A와 B가 주어진다. (0 < A, B < 10)\n",
        "\n",
        "    - 출력\n",
        "        \n",
        "        첫째 줄에 A+B를 출력한다.\n",
        "\n",
        "    - 예제 입력 1\n",
        "\n",
        "        1 2\n",
        "\n",
        "    - 예제 출력 1\n",
        "\n",
        "        3\n",
        "\n"
      ],
      "metadata": {
        "id": "C0dU-8rSMSTM"
      }
    },
    {
      "cell_type": "code",
      "source": [],
      "metadata": {
        "id": "p2xlNfmXMRxh"
      },
      "execution_count": null,
      "outputs": []
    },
    {
      "cell_type": "markdown",
      "source": [
        "- 검색"
      ],
      "metadata": {
        "id": "v0KRPK5APA-O"
      }
    },
    {
      "cell_type": "code",
      "source": [],
      "metadata": {
        "id": "z28SGc_ePNGc"
      },
      "execution_count": null,
      "outputs": []
    },
    {
      "cell_type": "markdown",
      "source": [
        "## 정리\n",
        "\n",
        "- 내장 함수\n",
        "\n",
        "print(), type(), id(), int(), float(), str(), bool(), round(), min(), max() ..."
      ],
      "metadata": {
        "id": "Lk6PvOIsRVxW"
      }
    },
    {
      "cell_type": "code",
      "source": [],
      "metadata": {
        "id": "dj1e2ltpoB10"
      },
      "execution_count": null,
      "outputs": []
    },
    {
      "cell_type": "code",
      "source": [],
      "metadata": {
        "id": "P7vzXbqioGO6"
      },
      "execution_count": null,
      "outputs": []
    },
    {
      "cell_type": "markdown",
      "source": [],
      "metadata": {
        "id": "1z0gQ-P4ewTO"
      }
    }
  ]
}