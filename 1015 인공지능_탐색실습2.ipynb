{
  "nbformat": 4,
  "nbformat_minor": 0,
  "metadata": {
    "colab": {
      "provenance": [],
      "toc_visible": true,
      "include_colab_link": true
    },
    "kernelspec": {
      "name": "python3",
      "display_name": "Python 3"
    },
    "language_info": {
      "name": "python"
    }
  },
  "cells": [
    {
      "cell_type": "markdown",
      "metadata": {
        "id": "view-in-github",
        "colab_type": "text"
      },
      "source": [
        "<a href=\"https://colab.research.google.com/github/JJUYAAA/lecture_AI/blob/main/1015%20%EC%9D%B8%EA%B3%B5%EC%A7%80%EB%8A%A5_%ED%83%90%EC%83%89%EC%8B%A4%EC%8A%B52.ipynb\" target=\"_parent\"><img src=\"https://colab.research.google.com/assets/colab-badge.svg\" alt=\"Open In Colab\"/></a>"
      ]
    },
    {
      "cell_type": "markdown",
      "source": [
        "\n",
        "## 1. 탐색 종류\n",
        "\n",
        "|     | 맹목적 탐색 | open 자료구조 | 구현 |\n",
        "|-----|-------------|-------------|---|\n",
        "| 임의 경로 탐색 | 깊이 우선 탐색 |  스택 | list |\n",
        "| 임의 경로 탐색 | 너비 우선 탐색 |  큐 | deque |\n",
        "| 최적 경로 탐색 | 균일 비용 탐색 | 우선순위 큐 | heapq |\n",
        "\n",
        "|     | 경험적 탐색 | open 자료구조 | 구현 |\n",
        "|-----|-------------|-------------|---|\n",
        "| 임의 경로 탐색 | 언덕오르기 |  - | - |\n",
        "| 임의 경로 탐색 | 최상 우선 탐색 |  우선순위 큐 | heapq |\n",
        "| 최적 경로 탐색 | A* 알고리즘 | 우선순위 큐 | heapq |"
      ],
      "metadata": {
        "id": "qaUq6OQD8HS2"
      }
    },
    {
      "cell_type": "markdown",
      "source": [
        "## 2. 미로 (maze) 탐색\n",
        "\n",
        "미로 환경 시각화"
      ],
      "metadata": {
        "id": "v25GW6GNc0jH"
      }
    },
    {
      "cell_type": "code",
      "source": [
        "maze1 = (\n",
        "    'A   #  ##   ###',\n",
        "    '### # ### #####',\n",
        "    '##    #   #####',\n",
        "    '## ## # #      ',\n",
        "    '#   # # ###### ',\n",
        "    '# # #        # ',\n",
        "    '# # ########  B'\n",
        ")\n",
        "\n",
        "maze2 = (\n",
        "    'B      ',\n",
        "    ' ##### ',\n",
        "    ' ##    ',\n",
        "    ' ## # #',\n",
        "    '    # #',\n",
        "    '##### #',\n",
        "    '#####A#'\n",
        ")\n",
        "\n",
        "# '■', '□'\n",
        "\n",
        "# 빈칸이 통로임\n"
      ],
      "metadata": {
        "id": "P7vzXbqioGO6"
      },
      "execution_count": 14,
      "outputs": []
    },
    {
      "cell_type": "code",
      "source": [
        "def visualization(maze):\n",
        "  h, w = len(maze), len(maze[0])\n",
        "  for x in range(h):\n",
        "    for y in range(w):\n",
        "      if maze[x][y] == '#':\n",
        "        print('■', end='|')\n",
        "      elif maze[x][y] == ' ':\n",
        "         print('□', end='|')\n",
        "      else:\n",
        "        print(maze[x][y].ljust(2),end= '|')#항상 앞에있는 두개만 출력하게끔\n",
        "    print()\n",
        "\n",
        "visualization(maze1)"
      ],
      "metadata": {
        "id": "5x6Edxo2rmN4",
        "outputId": "9225de9d-d88d-4f22-f510-e5c7962f4d2b",
        "colab": {
          "base_uri": "https://localhost:8080/"
        }
      },
      "execution_count": 44,
      "outputs": [
        {
          "output_type": "stream",
          "name": "stdout",
          "text": [
            "A |□|□|□|■|□|□|■|■|□|□|□|■|■|■|\n",
            "■|■|■|□|■|□|■|■|■|□|■|■|■|■|■|\n",
            "■|■|□|□|□|□|■|□|□|□|■|■|■|■|■|\n",
            "■|■|□|■|■|□|■|□|■|□|□|□|□|□|□|\n",
            "■|□|□|□|■|□|■|□|■|■|■|■|■|■|□|\n",
            "■|□|■|□|■|□|□|□|□|□|□|□|□|■|□|\n",
            "■|□|■|□|■|■|■|■|■|■|■|■|□|□|B |\n"
          ]
        }
      ]
    },
    {
      "cell_type": "code",
      "source": [
        "def find_start_end(maze):\n",
        "  h,w = len(maze), len(maze[0])\n",
        "  start, end = None, None\n",
        "  for x in range(h):\n",
        "    for y in range(w):\n",
        "      if maze[x][y] == 'A':\n",
        "        start = (x,y)\n",
        "      elif maze[x][y] == 'B':\n",
        "        end = (x,y)\n",
        "  return start, end\n",
        "\n",
        "start, end = find_start_end(maze1)\n",
        "print(start, end)\n"
      ],
      "metadata": {
        "id": "iV5v22dZKlao",
        "outputId": "ced22279-1875-4209-e42b-1bd65bfa7f05",
        "colab": {
          "base_uri": "https://localhost:8080/"
        }
      },
      "execution_count": 25,
      "outputs": [
        {
          "output_type": "stream",
          "name": "stdout",
          "text": [
            "(0, 0) (6, 14)\n"
          ]
        }
      ]
    },
    {
      "cell_type": "markdown",
      "source": [
        "## 3. 깊이 우선 탐색\n"
      ],
      "metadata": {
        "id": "kB_2krpIg7--"
      }
    },
    {
      "cell_type": "code",
      "source": [
        "def dfs(maze):\n",
        "  start, end = find_start_end(maze)\n",
        "  stack = [start]\n",
        "  count = 1\n",
        "\n",
        "  #스택이 빈 리스트가 될 때까지 반복\n",
        "  while stack:\n",
        "    x,y = stack.pop()\n",
        "    if maze[x][y] == 'B':\n",
        "      return True #while문 빠져나옴\n",
        "\n",
        "    elif maze[x][y] == ' ':\n",
        "      maze[x][y] = str(count) #count로 표시\n",
        "      count += 1\n",
        "\n",
        "    for dx, dy in [(0,-1),(0,1),(-1,0),(1,0)]:\n",
        "      nx, ny = x+dx, y+dy\n",
        "      if 0<= nx < len(maze) and 0 <= ny < (maze[nx][ny] == ' ' or maze[nx][ny] =='B'):\n",
        "        stack.append((nx,ny))\n",
        "  return False\n",
        "\n",
        "    #maze를 가변객체로 만들어야 함\n",
        "  #maze = []\n",
        "  #for row in maze1:\n",
        "    #maze.append(list(row)) #maze는 이중리스트가 됨\n",
        "\n",
        "maze = [list(row) for row in maze1]\n",
        "dfs(maze)\n",
        "visualization(maze)\n",
        "\n"
      ],
      "metadata": {
        "id": "eIlRXzbcfR6-",
        "outputId": "8029f2a9-a73e-43bf-f6ef-fc74e99b1b53",
        "colab": {
          "base_uri": "https://localhost:8080/"
        }
      },
      "execution_count": 39,
      "outputs": [
        {
          "output_type": "stream",
          "name": "stdout",
          "text": [
            "A |□□□■□□■■□□□■■■\n",
            "■■■□■□■■■□■■■■■\n",
            "■■□□□□■□□□■■■■■\n",
            "■■□■■□■□■□□□□□□\n",
            "■□□□■□■□■■■■■■□\n",
            "■□■□■□□□□□□□□■□\n",
            "■□■□■■■■■■■■□□B |\n"
          ]
        }
      ]
    },
    {
      "cell_type": "code",
      "source": [
        "maze = [list(row) for row in maze2]\n",
        "dfs(maze)\n",
        "visualization(maze)"
      ],
      "metadata": {
        "id": "bszBdvKcPCbF",
        "outputId": "34305fdf-f7a8-4e37-ae20-cc515dddb9d5",
        "colab": {
          "base_uri": "https://localhost:8080/"
        }
      },
      "execution_count": 40,
      "outputs": [
        {
          "output_type": "stream",
          "name": "stdout",
          "text": [
            "B |□□□□□□\n",
            "□■■■■■□\n",
            "□■■□□□□\n",
            "□■■□■□■\n",
            "□□□□■□■\n",
            "■■■■■□■\n",
            "■■■■■A |■\n"
          ]
        }
      ]
    },
    {
      "cell_type": "markdown",
      "source": [
        "## 4. 너비 우선 탐색"
      ],
      "metadata": {
        "id": "ruDovAbKzDke"
      }
    },
    {
      "cell_type": "code",
      "source": [],
      "metadata": {
        "id": "zWFdOvj8n3VA"
      },
      "execution_count": null,
      "outputs": []
    },
    {
      "cell_type": "code",
      "source": [
        "from collections import deque\n",
        "\n",
        "def bfs(maze):\n",
        "  start, end = find_start_end(maze)\n",
        "  queue = deque([start])\n",
        "  count = 1\n",
        "\n",
        "  #큐는 선입선출 -> popleft\n",
        "  while queue:\n",
        "    x,y = queue.popleft()\n",
        "    if maze[x][y] == 'B':\n",
        "      return True #while문 빠져나옴\n",
        "\n",
        "    elif maze[x][y] == ' ':\n",
        "      maze[x][y] = str(count) #count로 표시\n",
        "      count += 1\n",
        "\n",
        "    for dx, dy in [(0,-1),(0,1),(-1,0),(1,0)]:\n",
        "      nx, ny = x+dx, y+dy\n",
        "      if 0<= nx < len(maze) and 0 <= ny < (maze[nx][ny] == ' ' or maze[nx][ny] =='B'):\n",
        "        queue.append((nx,ny))\n",
        "  return False\n",
        "\n",
        "\n",
        "maze = [list(row) for row in maze1]\n",
        "bfs(maze)\n",
        "visualization(maze)"
      ],
      "metadata": {
        "id": "obHVAoOwyVOq",
        "outputId": "28760bf1-1d53-4759-9217-cdb28d907edd",
        "colab": {
          "base_uri": "https://localhost:8080/"
        }
      },
      "execution_count": 38,
      "outputs": [
        {
          "output_type": "stream",
          "name": "stdout",
          "text": [
            "A |□□□■□□■■□□□■■■\n",
            "■■■□■□■■■□■■■■■\n",
            "■■□□□□■□□□■■■■■\n",
            "■■□■■□■□■□□□□□□\n",
            "■□□□■□■□■■■■■■□\n",
            "■□■□■□□□□□□□□■□\n",
            "■□■□■■■■■■■■□□B |\n"
          ]
        }
      ]
    },
    {
      "cell_type": "code",
      "source": [
        "maze = [list(row) for row in maze2]\n",
        "bfs(maze)\n",
        "visualization(maze)"
      ],
      "metadata": {
        "id": "MWCFCzC6v4tW",
        "outputId": "30e23a8d-03ee-4287-e93d-8cfde966f439",
        "colab": {
          "base_uri": "https://localhost:8080/"
        }
      },
      "execution_count": 41,
      "outputs": [
        {
          "output_type": "stream",
          "name": "stdout",
          "text": [
            "B |□□□□□□\n",
            "□■■■■■□\n",
            "□■■□□□□\n",
            "□■■□■□■\n",
            "□□□□■□■\n",
            "■■■■■□■\n",
            "■■■■■A |■\n"
          ]
        }
      ]
    },
    {
      "cell_type": "markdown",
      "source": [
        "## 6. 언덕 오르기"
      ],
      "metadata": {
        "id": "nEeKcA27kV9e"
      }
    },
    {
      "cell_type": "code",
      "source": [
        "# 휴리스틱\n",
        "\n",
        "def manhattan_distance(x1,y1,x2,y2):\n",
        "  return abs(x1-x2) + abs(y1-y2)\n",
        "print(manhattan_distance(0,0,6,14))"
      ],
      "metadata": {
        "id": "qMALEYKcwVpE",
        "outputId": "51067469-2a62-4d3a-eb72-edc74f7c0cc7",
        "colab": {
          "base_uri": "https://localhost:8080/"
        }
      },
      "execution_count": 47,
      "outputs": [
        {
          "output_type": "stream",
          "name": "stdout",
          "text": [
            "20\n"
          ]
        }
      ]
    },
    {
      "cell_type": "code",
      "source": [
        "def hill_climbing(maze):\n",
        "  start,end = find_start_end(maze) #현재 어느 위치에 있는지\n",
        "  current = start\n",
        "  count = 1\n",
        "\n",
        "  while True:\n",
        "    x,y = current\n",
        "\n",
        "    if maze[x][y] == 'B':\n",
        "      return True\n",
        "    elif maze[x][y] == ' ':\n",
        "      maze[x][y] = str(count)\n",
        "      count += 1\n",
        "\n",
        "    neighbors = [] #네개 방향 중 가장 휴리스틱?\n",
        "    for dx, dy in [(0,-1),(0,1),(-1,0),(1,0)]:\n",
        "      nx, ny = x+dx, y+dy\n",
        "      if 0<= nx < len(maze) and 0 <= ny < (maze[nx][ny] == ' ' or maze[nx][ny] =='B'):\n",
        "        heuristic = manhattan_distance(nx,ny,end[0],end[1])\n",
        "        neighbors.append((heuristic, (nx,ny))) #nx ny 튜플로 감쌈\n",
        "\n",
        "    #neighbors가 만족하는 방향이 없다면 빈 리스트 ( 탐색할 방향이 없음 )\n",
        "    if not neighbors:\n",
        "      return False\n",
        "    next_heuristic, next_move = min(neighbors)\n",
        "\n",
        "    if next_heuristic >= manhattan_distance(x,y,end[0],end[1]): #next가 지금 휴리스틱보다 클 때\n",
        "      return False\n",
        "    current = next_move # append가 필요 없음\n",
        "\n",
        "maze = [list(row) for row in maze2]\n",
        "hill_climbing(maze)\n",
        "visualization(maze)\n",
        "#maze2로 하면, 아래로 가는 휴리스틱이 종료됨  -> 중간에 끊김"
      ],
      "metadata": {
        "id": "Ci_nI8lFlFf8",
        "outputId": "4c2f8ce6-4b73-4d45-bb9e-811a2c113214",
        "colab": {
          "base_uri": "https://localhost:8080/"
        }
      },
      "execution_count": 50,
      "outputs": [
        {
          "output_type": "stream",
          "name": "stdout",
          "text": [
            "B |□|□|□|□|□|□|\n",
            "□|■|■|■|■|■|□|\n",
            "□|■|■|□|□|□|□|\n",
            "□|■|■|□|■|□|■|\n",
            "□|□|□|□|■|□|■|\n",
            "■|■|■|■|■|□|■|\n",
            "■|■|■|■|■|A |■|\n"
          ]
        }
      ]
    },
    {
      "cell_type": "markdown",
      "source": [
        "## 5. 최상 우선 탐색"
      ],
      "metadata": {
        "id": "aDaoL0aczJJd"
      }
    },
    {
      "cell_type": "code",
      "source": [
        "import heapq\n",
        "\n",
        "def best_first_search(maze):\n",
        "  start,end = find_start_end(maze) #현재 어느 위치에 있는지\n",
        "  heuristic = manhattan_distance(start[0],start[1],end[0],end[1])\n",
        "  heap = []\n",
        "  heapq.heappush(heap, (heuristic, start)) # start는 튜플임 (x,y)\n",
        "  count = 1\n",
        "\n",
        "  while heap:\n",
        "    _, (x, y) = heapq.heappop(heap) #버릴 값으로 언더바\n",
        "\n",
        "    if maze[x][y] == 'B':\n",
        "      return True\n",
        "    elif maze[x][y] == ' ':\n",
        "      maze[x][y] = str(count)\n",
        "      count += 1\n",
        "\n",
        "    #heappop 하면 최소 휴리스틱 뽑아주니까 neighbors 필요없음\n",
        "\n",
        "    for dx, dy in [(0,-1),(0,1),(-1,0),(1,0)]:\n",
        "      nx, ny = x+dx, y+dy\n",
        "      if 0<= nx < len(maze) and 0 <= ny < (maze[nx][ny] == ' ' or maze[nx][ny] =='B'):\n",
        "        heuristic = manhattan_distance(nx,ny,end[0],end[1])\n",
        "        heapq.heappush(heap, (heuristic, nx, ny))\n",
        "\n",
        "  return False\n",
        "\n",
        "maze = [list(row) for row in maze2]\n",
        "best_first_search(maze)\n",
        "visualization(maze)"
      ],
      "metadata": {
        "id": "EYS4hFMwk8Gs",
        "outputId": "2dc1e424-2645-4bcb-e202-07817611d4d7",
        "colab": {
          "base_uri": "https://localhost:8080/"
        }
      },
      "execution_count": 52,
      "outputs": [
        {
          "output_type": "stream",
          "name": "stdout",
          "text": [
            "B |□|□|□|□|□|□|\n",
            "□|■|■|■|■|■|□|\n",
            "□|■|■|□|□|□|□|\n",
            "□|■|■|□|■|□|■|\n",
            "□|□|□|□|■|□|■|\n",
            "■|■|■|■|■|□|■|\n",
            "■|■|■|■|■|A |■|\n"
          ]
        }
      ]
    },
    {
      "cell_type": "markdown",
      "source": [
        "## 7. A* 알고리즘"
      ],
      "metadata": {
        "id": "lwX_TbBEkYWu"
      }
    },
    {
      "cell_type": "code",
      "source": [
        "##최상위랑 거의 비슷, f,g 추가하는 것만 다른듯\n",
        "def a_star_search(maze):\n",
        "  start,end = find_start_end(maze) #현재 어느 위치에 있는지\n",
        "  heuristic = manhattan_distance(start[0],start[1],end[0],end[1])\n",
        "  heap = []\n",
        "  heapq.heappush(heap, (0+heuristic,0, start)) # 휴리스틱 뿐 아니라, f = g+h ,g= 몇번 이동,pos 값도 저장해야 함\n",
        "  count = 1\n",
        "\n",
        "  while heap:\n",
        "    f,g, (x, y) = heapq.heappop(heap) #버릴 값으로 언더바\n",
        "\n",
        "    if maze[x][y] == 'B':\n",
        "      return True\n",
        "    elif maze[x][y] == ' ':\n",
        "      maze[x][y] = str(count)\n",
        "      count += 1\n",
        "\n",
        "    #heappop 하면 최소 휴리스틱 뽑아주니까 neighbors 필요없음\n",
        "\n",
        "    for dx, dy in [(0,-1),(0,1),(-1,0),(1,0)]:\n",
        "      nx, ny = x+dx, y+dy\n",
        "      if 0<= nx < len(maze) and 0 <= ny < (maze[nx][ny] == ' ' or maze[nx][ny] =='B'):\n",
        "        heuristic = manhattan_distance(nx,ny,end[0],end[1])\n",
        "        newg = g+1\n",
        "        f = newg + heuristic\n",
        "        heapq.heappush(heap, (f, newg, nx, ny))\n",
        "\n",
        "  return False\n",
        "\n",
        "maze = [list(row) for row in maze2]\n",
        "best_first_search(maze)\n",
        "visualization(maze)\n"
      ],
      "metadata": {
        "id": "odsolu-dkX8O",
        "outputId": "a19e6f10-e125-47d3-e33a-9da15e2ffb82",
        "colab": {
          "base_uri": "https://localhost:8080/"
        }
      },
      "execution_count": 53,
      "outputs": [
        {
          "output_type": "stream",
          "name": "stdout",
          "text": [
            "B |□|□|□|□|□|□|\n",
            "□|■|■|■|■|■|□|\n",
            "□|■|■|□|□|□|□|\n",
            "□|■|■|□|■|□|■|\n",
            "□|□|□|□|■|□|■|\n",
            "■|■|■|■|■|□|■|\n",
            "■|■|■|■|■|A |■|\n"
          ]
        }
      ]
    },
    {
      "cell_type": "code",
      "source": [],
      "metadata": {
        "id": "sj8JNLS4WyzC"
      },
      "execution_count": null,
      "outputs": []
    }
  ]
}