{
  "nbformat": 4,
  "nbformat_minor": 0,
  "metadata": {
    "colab": {
      "provenance": [],
      "toc_visible": true,
      "include_colab_link": true
    },
    "kernelspec": {
      "name": "python3",
      "display_name": "Python 3"
    },
    "language_info": {
      "name": "python"
    }
  },
  "cells": [
    {
      "cell_type": "markdown",
      "metadata": {
        "id": "view-in-github",
        "colab_type": "text"
      },
      "source": [
        "<a href=\"https://colab.research.google.com/github/JJUYAAA/lecture_AI/blob/main/%EC%9D%B8%EA%B3%B5%EC%A7%80%EB%8A%A5_Python%EA%B8%B0%EC%B4%883.ipynb\" target=\"_parent\"><img src=\"https://colab.research.google.com/assets/colab-badge.svg\" alt=\"Open In Colab\"/></a>"
      ]
    },
    {
      "cell_type": "markdown",
      "source": [
        "## 3. 자료형\n",
        "\n",
        "| 이름 | 타입 | 가변 | 예제|\n",
        "| - | - | - | - |\n",
        "| 정수 | int | no | 47, 25000, 25_000 |\n",
        "| 부동소수점 | float | no | 3.14, 2.7e5 |\n",
        "| 복소수 | complex | no | 3j, 5 + 9j |\n",
        "| 불리언 | bool | no | True, False |\n",
        "| 문자열 | str | no | 'konkuk', \"seoul\" |\n",
        "| 리스트 | list | yes | ['seoul', 'busan', 'daegu']|\n",
        "| 튜플 | tuple | no | (2, 4, 6) |\n",
        "| 셋 | set | yes | set([3, 5, 7]) |\n",
        "| 딕셔너리 | dic | yes | {'name':'konkuk', age: 18}|\n"
      ],
      "metadata": {
        "id": "2dyGzEOTbS9i"
      }
    },
    {
      "cell_type": "markdown",
      "source": [
        "## 4. 판단문\n",
        "\n",
        "- 불리안"
      ],
      "metadata": {
        "id": "LcpsH-XAUNIZ"
      }
    },
    {
      "cell_type": "code",
      "source": [
        "a = True\n",
        "b = False\n",
        "c = None\n",
        "\n",
        "print(c)\n",
        "print(type(c))\n",
        "print(bool(c))"
      ],
      "metadata": {
        "id": "gRc4mX9XPAIA",
        "outputId": "f5b8039c-7d60-4684-8cf1-893edb71c019",
        "colab": {
          "base_uri": "https://localhost:8080/"
        }
      },
      "execution_count": 2,
      "outputs": [
        {
          "output_type": "stream",
          "name": "stdout",
          "text": [
            "None\n",
            "<class 'NoneType'>\n",
            "False\n"
          ]
        }
      ]
    },
    {
      "cell_type": "code",
      "source": [
        "print(bool(1))\n",
        "print(bool(0))\n",
        "print(bool(-1))\n",
        "print(bool(\"문자열이 있으면 True\"))\n",
        "print(bool(\" \"))\n",
        "print(bool(\"\"))\n",
        "print()\n",
        "\n",
        "print(bool([1, 2, 3]))\n",
        "print(bool([]))"
      ],
      "metadata": {
        "id": "mS7-_442PhlU",
        "outputId": "c23540fe-1cc4-4aca-9843-29643db5720d",
        "colab": {
          "base_uri": "https://localhost:8080/"
        }
      },
      "execution_count": 8,
      "outputs": [
        {
          "output_type": "stream",
          "name": "stdout",
          "text": [
            "True\n",
            "False\n",
            "True\n",
            "True\n",
            "True\n",
            "False\n",
            "\n",
            "True\n",
            "False\n"
          ]
        }
      ]
    },
    {
      "cell_type": "code",
      "source": [
        "print('o' in 'konkuuk')\n",
        "print(1 in [1,2,3])\n",
        "print('juyeon' in 'hi juyeon')\n",
        "\n",
        "#딕셔너리도 가능\n",
        "print('apple' in {'apple':4})\n",
        "print(4 in {'apple':4}) #키 값만 봄. value는 해당X\n"
      ],
      "metadata": {
        "id": "qtAQ_FU7PCS-",
        "outputId": "2ccfd828-d04f-445b-aacd-6c1e68a07b91",
        "colab": {
          "base_uri": "https://localhost:8080/"
        }
      },
      "execution_count": 13,
      "outputs": [
        {
          "output_type": "stream",
          "name": "stdout",
          "text": [
            "True\n",
            "True\n",
            "True\n",
            "True\n",
            "False\n"
          ]
        }
      ]
    },
    {
      "cell_type": "code",
      "source": [
        "a = True\n",
        "b = False\n",
        "\n",
        "print(a and a)\n",
        "print(b and b)\n",
        "print(a and b) #둘 중 하나라도 false면 false\n",
        "print('-------')\n",
        "\n",
        "print(a or a)\n",
        "print(b or b) # 둘 다 false면 false\n",
        "print(a or b)\n",
        "print('-------')\n",
        "\n",
        "print(not a)"
      ],
      "metadata": {
        "id": "TOZCAi4rRIwA",
        "outputId": "5605f712-8268-4afa-b603-6ef9d32d3c17",
        "colab": {
          "base_uri": "https://localhost:8080/"
        }
      },
      "execution_count": 18,
      "outputs": [
        {
          "output_type": "stream",
          "name": "stdout",
          "text": [
            "True\n",
            "False\n",
            "False\n",
            "-------\n",
            "True\n",
            "False\n",
            "True\n",
            "-------\n",
            "False\n"
          ]
        }
      ]
    },
    {
      "cell_type": "code",
      "source": [
        "print(True or False and False)\n",
        "#or랑 and가 동시에 있으면 and가 먼저 연산 됨\n",
        "#or 먼저 하고싶으면 괄호로 감싸기"
      ],
      "metadata": {
        "id": "pbKRgFkARhpS",
        "outputId": "74221325-dac9-4c3b-b64a-76b173ab0cbc",
        "colab": {
          "base_uri": "https://localhost:8080/"
        }
      },
      "execution_count": 17,
      "outputs": [
        {
          "output_type": "stream",
          "name": "stdout",
          "text": [
            "True\n"
          ]
        }
      ]
    },
    {
      "cell_type": "markdown",
      "source": [
        "- if 문"
      ],
      "metadata": {
        "id": "4LSOfBSxdwr7"
      }
    },
    {
      "cell_type": "code",
      "source": [
        "x = 3\n",
        "\n",
        "#조건은 T나 F를 반환\n",
        "if x > 5:\n",
        "  pass #지금 당장은 작성하지 않겠다\n",
        "elif x > 2:\n",
        "  pass\n",
        "else:\n",
        "  pass\n"
      ],
      "metadata": {
        "id": "jeYIPnlRQ_77"
      },
      "execution_count": 20,
      "outputs": []
    },
    {
      "cell_type": "code",
      "source": [
        "age = 27\n",
        "if age < 29:\n",
        "  print('학생입니다')\n",
        "  if age < 25:\n",
        "    print('대학생')\n",
        "  else:\n",
        "    print('대학원생')\n",
        "else:\n",
        "  print('직장인입니다')"
      ],
      "metadata": {
        "id": "S7pdoKuGS5Hb",
        "outputId": "89cc2872-2793-41a6-cc5e-71464fe3fc9c",
        "colab": {
          "base_uri": "https://localhost:8080/"
        }
      },
      "execution_count": 22,
      "outputs": [
        {
          "output_type": "stream",
          "name": "stdout",
          "text": [
            "학생입니다\n",
            "대학원생\n"
          ]
        }
      ]
    },
    {
      "cell_type": "code",
      "source": [
        "a = 'juyeon'\n",
        "print(a.find('u'))\n",
        "print(a.index('y'))\n",
        "\n",
        "print(a.find('k'))\n",
        "#print(a.index('k')) #이거는 에러가 남"
      ],
      "metadata": {
        "id": "MD-MZaIfTpIH",
        "outputId": "16a5ec1a-adc8-4781-a930-b15ba8c8041d",
        "colab": {
          "base_uri": "https://localhost:8080/"
        }
      },
      "execution_count": 25,
      "outputs": [
        {
          "output_type": "stream",
          "name": "stdout",
          "text": [
            "1\n",
            "2\n",
            "-1\n"
          ]
        }
      ]
    },
    {
      "cell_type": "code",
      "source": [
        "if 'a' in a:\n",
        "  print(a.index('a'))\n",
        "else:\n",
        "  print(-1)"
      ],
      "metadata": {
        "id": "Ke6bH5wWTpBp",
        "outputId": "299b3234-7f39-4542-b726-9750dc5afc16",
        "colab": {
          "base_uri": "https://localhost:8080/"
        }
      },
      "execution_count": 28,
      "outputs": [
        {
          "output_type": "stream",
          "name": "stdout",
          "text": [
            "-1\n"
          ]
        }
      ]
    },
    {
      "cell_type": "code",
      "source": [
        "a,b,c = 1,2,3\n",
        "if a == 1:\n",
        "  print(a)\n",
        "elif b == 2:\n",
        "  print(b)\n",
        "elif c == 3:\n",
        "  print(c)\n",
        "\n",
        "#다 True 이지만 순차적으로 실행되기 때문에 if 문만 출력 됨\n",
        "#세개 다 출력하고 싶다면 if문을 세개 (elif 말고 )"
      ],
      "metadata": {
        "id": "tX-RGzFUUPOW",
        "outputId": "740c66a4-44a0-4764-ab3e-09d71b5f80b7",
        "colab": {
          "base_uri": "https://localhost:8080/"
        }
      },
      "execution_count": 29,
      "outputs": [
        {
          "output_type": "stream",
          "name": "stdout",
          "text": [
            "1\n"
          ]
        }
      ]
    },
    {
      "cell_type": "markdown",
      "source": [
        "- 예제 <윤년>\n",
        "\n",
        "  - 4 로 나누어 떨어짐 -> 윤년\n",
        "  - 100 으로 나누어 떨어짐 -> 평년\n",
        "  - 400 으로 나누어 떨어짐 -> 윤년"
      ],
      "metadata": {
        "id": "w3eU37PSU-qT"
      }
    },
    {
      "cell_type": "code",
      "source": [
        "year = 2100\n",
        "if year%400 == 0 or (year%4 == 0 and year%100 != 0):\n",
        "  print('윤년')\n",
        "else:\n",
        "  print('평년')"
      ],
      "metadata": {
        "id": "_pU3NxBVU8NJ",
        "outputId": "bea508c8-f146-435d-96af-c16d86039e70",
        "colab": {
          "base_uri": "https://localhost:8080/"
        }
      },
      "execution_count": 32,
      "outputs": [
        {
          "output_type": "stream",
          "name": "stdout",
          "text": [
            "평년\n"
          ]
        }
      ]
    },
    {
      "cell_type": "markdown",
      "source": [],
      "metadata": {
        "id": "Z9bGIOqXVLII"
      }
    },
    {
      "cell_type": "markdown",
      "source": [
        "## 5. 반복문"
      ],
      "metadata": {
        "id": "UaI3GrW-e0no"
      }
    },
    {
      "cell_type": "markdown",
      "source": [
        "### while 문"
      ],
      "metadata": {
        "id": "2T850PDVe7_Q"
      }
    },
    {
      "cell_type": "code",
      "source": [
        "count = 1\n",
        "if count < 5:\n",
        "  print(count)\n"
      ],
      "metadata": {
        "id": "hT4AzX-9PDqO",
        "outputId": "f98b74f1-660d-4de8-b2dc-d7f8a4b851dc",
        "colab": {
          "base_uri": "https://localhost:8080/"
        }
      },
      "execution_count": 33,
      "outputs": [
        {
          "output_type": "stream",
          "name": "stdout",
          "text": [
            "1\n"
          ]
        }
      ]
    },
    {
      "cell_type": "code",
      "source": [
        "count = 1\n",
        "while count < 5:\n",
        "  print(count)\n",
        "  count += 1"
      ],
      "metadata": {
        "id": "5OQionXXWCHc",
        "outputId": "ccef102b-732c-41b3-9905-0dcfe8c48e34",
        "colab": {
          "base_uri": "https://localhost:8080/"
        }
      },
      "execution_count": 35,
      "outputs": [
        {
          "output_type": "stream",
          "name": "stdout",
          "text": [
            "1\n",
            "2\n",
            "3\n",
            "4\n"
          ]
        }
      ]
    },
    {
      "cell_type": "code",
      "source": [
        "letters = list('juyeon')\n",
        "print(letters)\n",
        "\n",
        "while letters:\n",
        "  print(letters.pop(0))"
      ],
      "metadata": {
        "id": "qKzUiX4oW6ut",
        "outputId": "8d73fc71-2f0b-4461-e1e9-73b0420a254c",
        "colab": {
          "base_uri": "https://localhost:8080/"
        }
      },
      "execution_count": 37,
      "outputs": [
        {
          "output_type": "stream",
          "name": "stdout",
          "text": [
            "['j', 'u', 'y', 'e', 'o', 'n']\n",
            "j\n",
            "u\n",
            "y\n",
            "e\n",
            "o\n",
            "n\n"
          ]
        }
      ]
    },
    {
      "cell_type": "markdown",
      "source": [
        "- break, continue"
      ],
      "metadata": {
        "id": "fe1Z0V62-MRq"
      }
    },
    {
      "cell_type": "code",
      "source": [
        "count = 1\n",
        "while True:\n",
        "  if count>5:\n",
        "    break\n",
        "  print(count)\n",
        "  count += 1\n",
        ""
      ],
      "metadata": {
        "id": "lvxn6JTqPEkW",
        "outputId": "d964aa73-e0ab-4127-deba-9d8599b8ff84",
        "colab": {
          "base_uri": "https://localhost:8080/"
        }
      },
      "execution_count": 39,
      "outputs": [
        {
          "output_type": "stream",
          "name": "stdout",
          "text": [
            "1\n",
            "2\n",
            "3\n",
            "4\n",
            "5\n"
          ]
        }
      ]
    },
    {
      "cell_type": "code",
      "source": [
        "count = 1\n",
        "while count<5:\n",
        "  if count%2 == 0:\n",
        "    count += 1\n",
        "    continue #밑에 코드를 실행하지 않고 바로 while 로 가서 조건 판별\n",
        "  print(count)\n",
        "  count += 1"
      ],
      "metadata": {
        "id": "VKjeIVU9XdEr"
      },
      "execution_count": null,
      "outputs": []
    },
    {
      "cell_type": "markdown",
      "source": [
        "### for 문"
      ],
      "metadata": {
        "id": "t4KbIc28-oCR"
      }
    },
    {
      "cell_type": "code",
      "source": [
        "letters = 'konkuk'\n",
        "for letter in letters: #letter는 글자 하나하나를 할당\n",
        "  print(letter)"
      ],
      "metadata": {
        "id": "cDH2_YYhPGS9",
        "outputId": "262f3937-8879-4044-d80c-5859e20c1bfd",
        "colab": {
          "base_uri": "https://localhost:8080/"
        }
      },
      "execution_count": 40,
      "outputs": [
        {
          "output_type": "stream",
          "name": "stdout",
          "text": [
            "k\n",
            "o\n",
            "n\n",
            "k\n",
            "u\n",
            "k\n"
          ]
        }
      ]
    },
    {
      "cell_type": "markdown",
      "source": [
        "- 구구단"
      ],
      "metadata": {
        "id": "Uvp6aBvc_cCV"
      }
    },
    {
      "cell_type": "code",
      "source": [
        "N = 7\n",
        "for i in range(1,10):\n",
        "  print(f'{N} * {i} = {N*i}')"
      ],
      "metadata": {
        "id": "HLdFjaEMPbWd",
        "outputId": "42e1a7df-e9a2-4f90-a556-4dd3120540f4",
        "colab": {
          "base_uri": "https://localhost:8080/"
        }
      },
      "execution_count": 42,
      "outputs": [
        {
          "output_type": "stream",
          "name": "stdout",
          "text": [
            "7 * 1 = 7\n",
            "7 * 2 = 14\n",
            "7 * 3 = 21\n",
            "7 * 4 = 28\n",
            "7 * 5 = 35\n",
            "7 * 6 = 42\n",
            "7 * 7 = 49\n",
            "7 * 8 = 56\n",
            "7 * 9 = 63\n"
          ]
        }
      ]
    },
    {
      "cell_type": "markdown",
      "source": [
        "## 6. 함수\n",
        "\n",
        "    코드 규모가 커지면 긴 코드를 함수로 쉽게 관리 할 수 있다.\n",
        "\n",
        "    함수는 이름이 붙여진 코드 조각이다.\n",
        "\n",
        "    함수는 매개변수를 입력하고 결과를 반환한다."
      ],
      "metadata": {
        "id": "EiAaaknN_mht"
      }
    },
    {
      "cell_type": "code",
      "source": [
        "def do_nothing():\n",
        "  pass\n",
        "\n",
        "do_nothing()"
      ],
      "metadata": {
        "id": "Sabjt40XPJ3W"
      },
      "execution_count": 43,
      "outputs": []
    },
    {
      "cell_type": "code",
      "source": [
        "def leaf():\n",
        "  year = 2404\n",
        "  if year%400 == 0 or (year%4 == 0 and year%100 != 0):\n",
        "    print('윤년')\n",
        "  else:\n",
        "    print('평년')\n",
        "\n",
        "leaf()"
      ],
      "metadata": {
        "id": "HKHAQXeCaxVI",
        "outputId": "17f9fea2-6718-4284-dbbe-4c1726582253",
        "colab": {
          "base_uri": "https://localhost:8080/"
        }
      },
      "execution_count": 45,
      "outputs": [
        {
          "output_type": "stream",
          "name": "stdout",
          "text": [
            "윤년\n"
          ]
        }
      ]
    },
    {
      "cell_type": "markdown",
      "source": [
        "- 인수와 매개변수\n",
        "\n",
        "    함수의 인수는 개수 상관없이 모든 유형의 인수를 취할 수 있다.\n",
        "\n",
        "    반환값도 마찬가지로 개수 상관없이 모든 유형의 인수를 취할 수 있다."
      ],
      "metadata": {
        "id": "o402x-vlBT45"
      }
    },
    {
      "cell_type": "code",
      "source": [
        "def leaf(year):\n",
        "  if year%400 == 0 or (year%4 == 0 and year%100 != 0):\n",
        "    print('윤년')\n",
        "  else:\n",
        "    print('평년')\n",
        "\n",
        "\n",
        "leaf(2404)"
      ],
      "metadata": {
        "id": "PrMGlvMYPLFX",
        "outputId": "9d0e96aa-c91c-4676-fb73-227566dbd65a",
        "colab": {
          "base_uri": "https://localhost:8080/"
        }
      },
      "execution_count": 46,
      "outputs": [
        {
          "output_type": "stream",
          "name": "stdout",
          "text": [
            "윤년\n"
          ]
        }
      ]
    },
    {
      "cell_type": "markdown",
      "source": [
        "- 위치 인수"
      ],
      "metadata": {
        "id": "-2XXmVAfCVin"
      }
    },
    {
      "cell_type": "code",
      "source": [
        "def menu(drink, meet, dessert):\n",
        "  print(f'음료: {drink}')\n",
        "  print(f'메뉴: {meet}')\n",
        "  print(f'디저트: {dessert}')\n",
        "\n",
        "menu('콜라', '치킨', '마카롱') #위치가 일치해야 정확하게 할당"
      ],
      "metadata": {
        "id": "PjpYNxspPMCm",
        "outputId": "82f42cad-6745-41ae-a702-76c9198859a6",
        "colab": {
          "base_uri": "https://localhost:8080/"
        }
      },
      "execution_count": 47,
      "outputs": [
        {
          "output_type": "stream",
          "name": "stdout",
          "text": [
            "음료: 콜라\n",
            "메뉴: 치킨\n",
            "디저트: 마카롱\n"
          ]
        }
      ]
    },
    {
      "cell_type": "markdown",
      "source": [
        "- 키워드 인수"
      ],
      "metadata": {
        "id": "5hvjJ5OcCnCt"
      }
    },
    {
      "cell_type": "code",
      "source": [
        "menu(meet='치킨', drink='콜라',  dessert='파이')\n",
        "#순서를 변경해도 문제 없음"
      ],
      "metadata": {
        "id": "DrrKseHJPM4e",
        "outputId": "48b4d60e-6eed-4876-f8e9-e0876a27c7f1",
        "colab": {
          "base_uri": "https://localhost:8080/"
        }
      },
      "execution_count": 49,
      "outputs": [
        {
          "output_type": "stream",
          "name": "stdout",
          "text": [
            "음료: 콜라\n",
            "메뉴: 치킨\n",
            "디저트: 파이\n"
          ]
        }
      ]
    },
    {
      "cell_type": "markdown",
      "source": [
        "- 기본 매개변수 값 지정"
      ],
      "metadata": {
        "id": "8jXEztgsC7sW"
      }
    },
    {
      "cell_type": "code",
      "source": [
        "def menu(drink='콜라', meet='지코바', dessert='애플파이'):\n",
        "  print(f'음료: {drink}')\n",
        "  print(f'메뉴: {meet}')\n",
        "  print(f'디저트: {dessert}')\n",
        "\n",
        "menu()\n",
        "menu(drink='사이다')"
      ],
      "metadata": {
        "id": "376qy_JCPO6m",
        "outputId": "df419bb1-66b5-4d2a-caab-73f83a8ba2f4",
        "colab": {
          "base_uri": "https://localhost:8080/"
        }
      },
      "execution_count": 52,
      "outputs": [
        {
          "output_type": "stream",
          "name": "stdout",
          "text": [
            "음료: 콜라\n",
            "메뉴: 지코바\n",
            "디저트: 애플파이\n",
            "음료: 사이다\n",
            "메뉴: 지코바\n",
            "디저트: 애플파이\n"
          ]
        }
      ]
    },
    {
      "cell_type": "code",
      "source": [
        "def menu(drink, meet, dessert='애플파이'): #위치인수를 앞에, 키워드인수를 뒤에\n",
        "  print(f'음료: {drink}')\n",
        "  print(f'메뉴: {meet}')\n",
        "  print(f'디저트: {dessert}')\n",
        "\n",
        "\n",
        "menu(drink='사이다', meet ='치킨')"
      ],
      "metadata": {
        "id": "E3oZP8yOdPjs",
        "outputId": "1df8c353-6f66-45b9-cb8d-3bef1c5e581e",
        "colab": {
          "base_uri": "https://localhost:8080/"
        }
      },
      "execution_count": 53,
      "outputs": [
        {
          "output_type": "stream",
          "name": "stdout",
          "text": [
            "음료: 사이다\n",
            "메뉴: 치킨\n",
            "디저트: 애플파이\n"
          ]
        }
      ]
    },
    {
      "cell_type": "markdown",
      "source": [
        "- 인수 분해하기 / 모으기"
      ],
      "metadata": {
        "id": "S-Vcq0mhD-vq"
      }
    },
    {
      "cell_type": "code",
      "source": [
        "#넘어감"
      ],
      "metadata": {
        "id": "_bW0fdJKPQK9"
      },
      "execution_count": null,
      "outputs": []
    },
    {
      "cell_type": "markdown",
      "source": [
        "- 키워드 인수 분해하기/모으기 *"
      ],
      "metadata": {
        "id": "-jcAqxoYFgr-"
      }
    },
    {
      "cell_type": "code",
      "source": [
        "#넘어감"
      ],
      "metadata": {
        "id": "qa8oOj6QPROV"
      },
      "execution_count": null,
      "outputs": []
    },
    {
      "cell_type": "markdown",
      "source": [
        "- 함수를 매개변수로 사용"
      ],
      "metadata": {
        "id": "rlYdeUmxFwhE"
      }
    },
    {
      "cell_type": "code",
      "source": [
        "#넘어감"
      ],
      "metadata": {
        "id": "7C53i4QYPSde"
      },
      "execution_count": null,
      "outputs": []
    },
    {
      "cell_type": "markdown",
      "source": [
        "- 익명함수 lambda"
      ],
      "metadata": {
        "id": "eQeVF5LTF881"
      }
    },
    {
      "cell_type": "code",
      "source": [
        "#넘어감"
      ],
      "metadata": {
        "id": "HwrBl1CgPTqO"
      },
      "execution_count": null,
      "outputs": []
    },
    {
      "cell_type": "markdown",
      "source": [
        "- 재귀함수"
      ],
      "metadata": {
        "id": "OvaSM6_2GMJM"
      }
    },
    {
      "cell_type": "code",
      "source": [
        "#깊이우선함수 구현할 때 재귀 사용 예정\n",
        "\n",
        "def hello(count):\n",
        "  #재귀함수 시작시 종료조건 만드는것이 좋음\n",
        "  if count ==0:\n",
        "    return\n",
        "\n",
        "  print('hello')\n",
        "  hello(count-1)\n",
        "\n",
        "hello(5)"
      ],
      "metadata": {
        "id": "R_bQlBUDPVFF",
        "outputId": "998bdaa9-d177-4116-df9b-97c9c84c2d7d",
        "colab": {
          "base_uri": "https://localhost:8080/"
        }
      },
      "execution_count": 57,
      "outputs": [
        {
          "output_type": "stream",
          "name": "stdout",
          "text": [
            "hello\n",
            "hello\n",
            "hello\n",
            "hello\n",
            "hello\n"
          ]
        }
      ]
    },
    {
      "cell_type": "markdown",
      "source": [
        "- 연습 문제\n",
        "\n",
        "    https://www.acmicpc.net/problem/2739"
      ],
      "metadata": {
        "id": "0gm44kXSOtwB"
      }
    },
    {
      "cell_type": "code",
      "source": [],
      "metadata": {
        "id": "3dVcwjeNGQRc"
      },
      "execution_count": null,
      "outputs": []
    }
  ]
}